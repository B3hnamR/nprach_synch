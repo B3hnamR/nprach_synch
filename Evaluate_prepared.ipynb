{
 "cells": [
  {
   "cell_type": "markdown",
   "metadata": {},
   "source": [
    "# Evaluate: Baseline/DL Curves (NB-IoT NPRACH)\n",
    "این نوت‌بوک خروجی‌های اصلی (FPR/FNR vs CFO, FNR vs SNR, FPR/FNR vs Ptx, NMSE vs SNR) را برای مسیر مبنا و DL تولید می‌کند."
   ]
  },
  {
   "cell_type": "code",
   "execution_count": null,
   "metadata": {},
   "outputs": [],
   "source": [
    "# پیکربندی خودکار + نخ‌ها + لاگ کمتر\n",
    "from runtime.auto_config import get_system_profile, recommend_settings, apply_tf_settings, summarize\n",
    "prof = get_system_profile()\n",
    "rec  = recommend_settings(prof, mode='eval')\n",
    "apply_tf_settings(rec)\n",
    "print(summarize(prof, rec))\n",
    "\n",
    "import os, numpy as np, tensorflow as tf, matplotlib.pyplot as plt\n",
    "os.environ['TF_CPP_MIN_LOG_LEVEL'] = '2'\n",
    "tf.random.set_seed(7)\n",
    "np.random.seed(7)\n",
    "\n",
    "%matplotlib inline\n",
    "\n",
    "os.makedirs('results', exist_ok=True)\n",
    "def savefig(path):\n",
    "    plt.savefig(path + '.png', dpi=220, bbox_inches='tight')\n",
    "    plt.savefig(path + '.pdf', bbox_inches='tight')\n"
   ]
  },
  {
   "cell_type": "code",
   "execution_count": null,
   "metadata": {},
   "outputs": [],
   "source": [
    "# انتخاب روش و ساخت سیستم\n",
    "from e2e import E2E\n",
    "BATCH = 32   # اگر کند بود 8 یا 16 کنید\n",
    "RUNS  = 6    # برای خروجی سریع 3–4\n",
    "\n",
    "METHOD = 'baseline'  # یا 'dl'\n",
    "NPRACH_NUM_SC = 48 if METHOD=='dl' else 24\n",
    "\n",
    "sys = E2E(METHOD, False, nprach_num_rep=1, nprach_num_sc=NPRACH_NUM_SC, fft_size=256, pfa=0.999)\n"
   ]
  },
  {
   "cell_type": "code",
   "execution_count": null,
   "metadata": {},
   "outputs": [],
   "source": [
    "# بارگذاری وزن‌ها (فقط برای DL)\n",
    "import pickle\n",
    "if METHOD == 'dl':\n",
    "    T = sys.num_time_samples\n",
    "    y0 = tf.complex(tf.zeros([1, T], tf.float32), tf.zeros([1, T], tf.float32))\n",
    "    _  = sys.synch(y0)\n",
    "    with open('weights.dat','rb') as f:\n",
    "        sys.synch.set_weights(pickle.load(f))\n",
    "    print('Weights loaded for DeepNSynch')\n"
   ]
  },
  {
   "cell_type": "code",
   "execution_count": null,
   "metadata": {},
   "outputs": [],
   "source": [
    "# توابع کمکی: تبدیل CFO و باینینگ SNR\n",
    "from e2e.cfo import CFO\n",
    "from parameters import CARRIER_FREQ, SAMPLING_FREQUENCY\n",
    "\n",
    "cfo_layer = CFO(CARRIER_FREQ, SAMPLING_FREQUENCY)\n",
    "ppm2norm = lambda ppm: cfo_layer.ppm2Foffnorm(tf.constant(ppm, tf.float32)).numpy()\n",
    "\n",
    "def bin_by_snr(snr_tensor, metric_tensor, nbins=10):\n",
    "    import numpy as _np\n",
    "    snr = snr_tensor.numpy().ravel()\n",
    "    met = metric_tensor.numpy().ravel()\n",
    "    used = snr > 0.0\n",
    "    if not used.any():\n",
    "        return _np.array([]), _np.array([])\n",
    "    snr_db = 10.0*_np.log10(snr[used] + 1e-12)\n",
    "    met_u  = met[used]\n",
    "    edges = _np.linspace(snr_db.min(), snr_db.max(), nbins+1)\n",
    "    centers = 0.5*(edges[:-1] + edges[1:])\n",
    "    idx = _np.digitize(snr_db, edges[1:-1], right=False)\n",
    "    means = [_np.mean(met_u[idx==b]) if _np.any(idx==b) else _np.nan for b in range(nbins)]\n",
    "    return centers, _np.array(means)\n"
   ]
  },
  {
   "cell_type": "markdown",
   "metadata": {},
   "source": [
    "## Figure A — FPR/FNR در برابر CFO (CFO ثابت)"
   ]
  },
  {
   "cell_type": "code",
   "execution_count": null,
   "metadata": {},
   "outputs": [],
   "source": [
    "import numpy as np, matplotlib.pyplot as plt, tensorflow as tf\n",
    "targets_ppm  = np.array([0.0, 10.0, 20.0], float)\n",
    "targets_norm = np.array([ppm2norm(x) for x in targets_ppm], float)\n",
    "tol_rel, tol_abs0 = 0.1, ppm2norm(0.5)\n",
    "fpr_mean, fnr_mean, fpr_std, fnr_std = [], [], [], []\n",
    "for t_ppm, t_norm in zip(targets_ppm, targets_norm):\n",
    "    vals_fpr, vals_fnr, w_fpr, w_fnr = [], [], [], []\n",
    "    for _ in range(RUNS):\n",
    "        snr, toa, f_off, ue_prob, fpr, fnr, toa_err, f_off_err = sys(BATCH, max_cfo_ppm=float(max(targets_ppm)), ue_prob=0.5)\n",
    "        f_abs = np.abs(f_off.numpy().ravel())\n",
    "        mask = (f_abs <= tol_abs0) if t_ppm==0.0 else (np.abs(f_abs - abs(t_norm)) <= abs(t_norm)*tol_rel)\n",
    "        if not mask.any(): continue\n",
    "        fpr_v = fpr.numpy().ravel()[mask]; fpr_v = fpr_v[fpr_v >= 0.0]\n",
    "        fnr_v = fnr.numpy().ravel()[mask]; fnr_v = fnr_v[fnr_v >= 0.0]\n",
    "        if fpr_v.size>0: vals_fpr.append(float(fpr_v.mean())); w_fpr.append(int(fpr_v.size))\n",
    "        if fnr_v.size>0: vals_fnr.append(float(fnr_v.mean())); w_fnr.append(int(fnr_v.size))\n",
    "    if vals_fpr:\n",
    "        w = np.array(w_fpr,float); w/=w.sum(); fpr_mean.append(float(np.sum(w*np.array(vals_fpr))))\n",
    "        fpr_std.append(float(np.std(vals_fpr, ddof=1)) if len(vals_fpr)>1 else 0.0)\n",
    "    else: fpr_mean.append(np.nan); fpr_std.append(0.0)\n",
    "    if vals_fnr:\n",
    "        w = np.array(w_fnr,float); w/=w.sum(); fnr_mean.append(float(np.sum(w*np.array(vals_fnr))))\n",
    "        fnr_std.append(float(np.std(vals_fnr, ddof=1)) if len(vals_fnr)>1 else 0.0)\n",
    "    else: fnr_mean.append(np.nan); fnr_std.append(0.0)\n",
    "plt.figure(figsize=(6,4))\n",
    "plt.errorbar(targets_ppm, fpr_mean, yerr=fpr_std, fmt='o-', capsize=3, label='FPR')\n",
    "plt.errorbar(targets_ppm, fnr_mean, yerr=fnr_std, fmt='s-', capsize=3, label='FNR')\n",
    "plt.xlabel('CFO (ppm)'); plt.ylabel('Rate'); plt.title(f'{METHOD}: FPR/FNR vs fixed CFO'); plt.grid(True); plt.legend(); plt.tight_layout()\n",
    "savefig('results/fpr_fnr_vs_cfo_'+METHOD); plt.show()\n"
   ]
  },
  {
   "cell_type": "markdown",
   "metadata": {},
   "source": [
    "## Figure B — FNR در برابر SNR (CFO∈{0,10,20} ppm)"
   ]
  },
  {
   "cell_type": "code",
   "execution_count": null,
   "metadata": {},
   "outputs": [],
   "source": [
    "import numpy as np, matplotlib.pyplot as plt, tensorflow as tf\n",
    "targets_ppm  = [0.0, 10.0, 20.0]\n",
    "targets_norm = [ppm2norm(x) for x in targets_ppm]\n",
    "tol_rel, tol_abs0 = 0.1, ppm2norm(0.5)\n",
    "NBINS=10\n",
    "plt.figure(figsize=(6,4))\n",
    "for t_ppm, t_norm in zip(targets_ppm, targets_norm):\n",
    "    xs_acc, ys_acc = [], []\n",
    "    for _ in range(RUNS):\n",
    "        snr, toa, f_off, ue_prob, fpr, fnr, toa_err, f_off_err = sys(BATCH, max_cfo_ppm=float(max(targets_ppm)), ue_prob=0.5)\n",
    "        f_abs = np.abs(f_off.numpy().ravel())\n",
    "        mask = (f_abs <= tol_abs0) if t_ppm==0.0 else (np.abs(f_abs - abs(t_norm)) <= abs(t_norm)*tol_rel)\n",
    "        if not mask.any(): continue\n",
    "        fnr_sel = tf.convert_to_tensor(fnr.numpy().ravel()[mask], tf.float32)\n",
    "        fnr_sel = tf.boolean_mask(fnr_sel, tf.greater_equal(fnr_sel, 0.0))\n",
    "        snr_sel = tf.convert_to_tensor(snr.numpy().ravel()[mask], tf.float32)\n",
    "        if tf.size(fnr_sel)==0: continue\n",
    "        centers, means = bin_by_snr(tf.reshape(snr_sel,[-1]), tf.reshape(fnr_sel,[-1]), nbins=NBINS)\n",
    "        if centers.size>0: xs_acc.append(centers); ys_acc.append(means)\n",
    "    if xs_acc:\n",
    "        x0 = xs_acc[0]; y_stack = np.vstack([y for y in ys_acc if y.shape==x0.shape]); y_mean = np.nanmean(y_stack, axis=0)\n",
    "        plt.plot(x0, y_mean, '-o', label=f'CFO={t_ppm:.0f} ppm')\n",
    "plt.xlabel('SNR (dB)'); plt.ylabel('FNR (binned mean)')\n",
    "plt.title(f'{METHOD}: FNR vs SNR at fixed CFO'); plt.grid(True); plt.legend(); plt.tight_layout()\n",
    "savefig('results/fnr_vs_snr_'+METHOD); plt.show()\n"
   ]
  },
  {
   "cell_type": "markdown",
   "metadata": {},
   "source": [
    "## Figure C — FPR/FNR در برابر Ptx (CFO=10 ppm)"
   ]
  },
  {
   "cell_type": "code",
   "execution_count": null,
   "metadata": {},
   "outputs": [],
   "source": [
    "import numpy as np, matplotlib.pyplot as plt, tensorflow as tf\n",
    "PTX = np.array([0.2, 0.5, 0.8], float)\n",
    "t_ppm = 10.0; t_norm = float(ppm2norm(t_ppm)); tol_rel = 0.1\n",
    "fpr_m, fnr_m = [], []\n",
    "for p in PTX:\n",
    "    vals_fpr, vals_fnr, w_fpr, w_fnr = [], [], [], []\n",
    "    for _ in range(RUNS):\n",
    "        snr, toa, f_off, ue_prob, fpr, fnr, toa_err, f_off_err = sys(BATCH, max_cfo_ppm=t_ppm, ue_prob=float(p))\n",
    "        f_abs = np.abs(f_off.numpy().ravel()); mask = np.abs(f_abs - abs(t_norm)) <= abs(t_norm)*tol_rel\n",
    "        if not mask.any(): continue\n",
    "        fpr_v = fpr.numpy().ravel()[mask]; fpr_v = fpr_v[fpr_v >= 0.0]\n",
    "        fnr_v = fnr.numpy().ravel()[mask]; fnr_v = fnr_v[fnr_v >= 0.0]\n",
    "        if fpr_v.size>0: vals_fpr.append(float(fpr_v.mean())); w_fpr.append(int(fpr_v.size))\n",
    "        if fnr_v.size>0: vals_fnr.append(float(fnr_v.mean())); w_fnr.append(int(fnr_v.size))\n",
    "    if vals_fpr: w=np.array(w_fpr,float); w/=w.sum(); fpr_m.append(float(np.sum(w*np.array(vals_fpr))))\n",
    "    else: fpr_m.append(np.nan)\n",
    "    if vals_fnr: w=np.array(w_fnr,float); w/=w.sum(); fnr_m.append(float(np.sum(w*np.array(vals_fnr))))\n",
    "    else: fnr_m.append(np.nan)\n",
    "plt.figure(figsize=(6,4))\n",
    "plt.plot(PTX, fpr_m, 'o-', label='FPR'); plt.plot(PTX, fnr_m, 's-', label='FNR')\n",
    "plt.xlabel('Ptx'); plt.ylabel('Rate'); plt.title(f'{METHOD}: FPR/FNR vs Ptx @ CFO=10 ppm'); plt.grid(True); plt.legend(); plt.tight_layout()\n",
    "savefig('results/fpr_fnr_vs_ptx_'+METHOD); plt.show()\n"
   ]
  },
  {
   "cell_type": "markdown",
   "metadata": {},
   "source": [
    "## Figure D — NMSE مربوط به ToA و CFO در برابر SNR"
   ]
  },
  {
   "cell_type": "code",
   "execution_count": null,
   "metadata": {},
   "outputs": [],
   "source": [
    "import numpy as np, matplotlib.pyplot as plt\n",
    "NBINS=10\n",
    "xs_acc_t, ys_acc_t, xs_acc_f, ys_acc_f = [], [], [], []\n",
    "for _ in range(RUNS):\n",
    "    snr, toa, f_off, ue_prob, fpr, fnr, toa_err, f_off_err = sys(BATCH, max_cfo_ppm=10.0, ue_prob=0.5)\n",
    "    def bin_mean(x, y, nbins=10):\n",
    "        x = x.ravel(); y = y.ravel()\n",
    "        used = x > 0.0\n",
    "        x = x[used]; y = y[used]\n",
    "        if x.size == 0: return np.array([]), np.array([])\n",
    "        x_db = 10.0*np.log10(x + 1e-12)\n",
    "        edges = np.linspace(x_db.min(), x_db.max(), nbins+1)\n",
    "        centers = 0.5*(edges[:-1] + edges[1:])\n",
    "        idx = np.digitize(x_db, edges[1:-1], right=False)\n",
    "        means = [np.mean(y[idx==b]) if np.any(idx==b) else np.nan for b in range(nbins)]\n",
    "        return centers, np.array(means)\n",
    "    c_t, m_t = bin_mean(snr.numpy(), toa_err.numpy(), nbins=NBINS)\n",
    "    c_f, m_f = bin_mean(snr.numpy(), f_off_err.numpy(), nbins=NBINS)\n",
    "    if c_t.size>0: xs_acc_t.append(c_t); ys_acc_t.append(m_t)\n",
    "    if c_f.size>0: xs_acc_f.append(c_f); ys_acc_f.append(m_f)\n",
    "\n",
    "def avg_curves(xs, ys):\n",
    "    if not xs: return np.array([]), np.array([])\n",
    "    x0 = xs[0]; y_stack = np.vstack([y for y in ys if y.shape==x0.shape])\n",
    "    return x0, np.nanmean(y_stack, axis=0)\n",
    "\n",
    "x_t, y_t = avg_curves(xs_acc_t, ys_acc_t)\n",
    "x_f, y_f = avg_curves(xs_acc_f, ys_acc_f)\n",
    "\n",
    "plt.figure(figsize=(12,4))\n",
    "plt.subplot(1,2,1)\n",
    "if x_t.size>0: plt.plot(x_t, y_t, '-o')\n",
    "plt.title(f'{METHOD}: ToA NMSE vs SNR'); plt.xlabel('SNR (dB)'); plt.ylabel('NMSE'); plt.grid(True)\n",
    "plt.subplot(1,2,2)\n",
    "if x_f.size>0: plt.plot(x_f, y_f, '-o')\n",
    "plt.title(f'{METHOD}: CFO NMSE vs SNR'); plt.xlabel('SNR (dB)'); plt.ylabel('NMSE'); plt.grid(True)\n",
    "plt.tight_layout()\n",
    "savefig('results/nmse_vs_snr_'+METHOD); plt.show()\n"
   ]
  }
 ],
 "metadata": {
  "kernelspec": {
   "display_name": "Python 3",
   "language": "python",
   "name": "python3"
  },
  "language_info": {
   "name": "python",
   "version": "3.8"
  }
 },
 "nbformat": 4,
 "nbformat_minor": 5
}
